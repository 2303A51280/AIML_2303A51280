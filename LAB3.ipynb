{
  "nbformat": 4,
  "nbformat_minor": 0,
  "metadata": {
    "colab": {
      "provenance": [],
      "authorship_tag": "ABX9TyMKmjIifkHqMLa42cpgu8rC",
      "include_colab_link": true
    },
    "kernelspec": {
      "name": "python3",
      "display_name": "Python 3"
    },
    "language_info": {
      "name": "python"
    }
  },
  "cells": [
    {
      "cell_type": "markdown",
      "metadata": {
        "id": "view-in-github",
        "colab_type": "text"
      },
      "source": [
        "<a href=\"https://colab.research.google.com/github/2303A51280/AIML_2303A51280/blob/main/LAB3.ipynb\" target=\"_parent\"><img src=\"https://colab.research.google.com/assets/colab-badge.svg\" alt=\"Open In Colab\"/></a>"
      ]
    },
    {
      "cell_type": "markdown",
      "source": [
        "1) Implement the AI Game Strategy"
      ],
      "metadata": {
        "id": "INUAw4lvIify"
      }
    },
    {
      "cell_type": "markdown",
      "source": [
        "Part 1 –(a). Install the Python Libraries required for Game Strategy. [CO2]\n",
        "1. Install the python libraries - collections, random, math, functools,\n",
        "cache = functools.lru cache(10**6)\n",
        "2. Implement a Game Class Constructor using action, is terminal, result, utility functions\n",
        "3. A game is similar to a problem, but it has a terminal test instead of a goal test, and a\n",
        "utility for each terminal state.\n",
        "4. Create a game subclass and implement actions, result, is terminal, and utility .\n",
        "5. You will also need to set the initial attribute to the initial state; this can be done in the\n",
        "constructor"
      ],
      "metadata": {
        "id": "tacXk5AmLJvz"
      }
    },
    {
      "cell_type": "code",
      "source": [
        "from collections import namedtuple,Counter,defaultdict\n",
        "import random\n",
        "import math\n",
        "import functools\n",
        "cache=functools.lru_cache(10**6)"
      ],
      "metadata": {
        "id": "g7YYTk8JKoMa"
      },
      "execution_count": 14,
      "outputs": []
    },
    {
      "cell_type": "code",
      "source": [
        "class Game:\n",
        "   def actions (self , state ):\n",
        "       raise NotImplementedError\n",
        "   def result (self , state , move ):\n",
        "       raise NotImplementedError\n",
        "   def is_terminal (self , state ):\n",
        "       return not self. actions (state)\n",
        "   def utility (self , state , player ):\n",
        "       raise NotImplementedError"
      ],
      "metadata": {
        "id": "Nh-2k4_TMidH"
      },
      "execution_count": 9,
      "outputs": []
    },
    {
      "cell_type": "markdown",
      "source": [
        "6. Implement a Player Game using the Game Class Constructor.\n",
        "\n"
      ],
      "metadata": {
        "id": "5bVMDrLjMjVT"
      }
    },
    {
      "cell_type": "code",
      "source": [
        "def play_game (game , strategies : dict , verbose =False ):\n",
        "\n",
        "    state = game. initial\n",
        "    while not game. is_terminal (state ):\n",
        "\n",
        "       player = state. to_move\n",
        "       move = strategies [ player ](game , state)\n",
        "       state = game. result (state , move)\n",
        "       if verbose :\n",
        "          print('Player: ', player , 'move:', move)\n",
        "          print(state)\n",
        "          return state"
      ],
      "metadata": {
        "id": "rAfR3FQbMrMm"
      },
      "execution_count": 10,
      "outputs": []
    },
    {
      "cell_type": "markdown",
      "source": [
        "Part 2 – Implement the Game Strategy Algorithms."
      ],
      "metadata": {
        "id": "V-48py4nwsnk"
      }
    },
    {
      "cell_type": "markdown",
      "source": [
        "1. Implement the MiniMax Search Algorithm."
      ],
      "metadata": {
        "id": "pwhp19W0wvGD"
      }
    },
    {
      "cell_type": "code",
      "source": [
        "def minimax_search (game , state ):\n",
        "\n",
        "    player = state. to_move\n",
        "    def max_value (state ):\n",
        "        if game. is_terminal (state ):\n",
        "           return game. utility (state , player ), None\n",
        "        v, move =-math.inf , None\n",
        "        for a in game. actions (state ):\n",
        "            v2, _ = min_value(game.result(state,a))\n",
        "            if v2 > v:\n",
        "                v, move = v2 , a\n",
        "        return v, move\n",
        "    def min_value (state ):\n",
        "        if game.is_terminal (state ):\n",
        "           return game. utility (state , player ), None\n",
        "        v, move = +math.inf , None\n",
        "        for a in game. actions (state ):\n",
        "            v2 , = max_value (game. result (state , a))\n",
        "            if v2 < v:\n",
        "                v, move = v2 , a\n",
        "        return v, move\n",
        "    return max_value (state)\n",
        "    infinity = math.inf\n",
        "\n"
      ],
      "metadata": {
        "id": "0onTLpKNyy3U"
      },
      "execution_count": 11,
      "outputs": []
    },
    {
      "cell_type": "markdown",
      "source": [
        "2. Implement the Alpha-Beta Search Algorithm"
      ],
      "metadata": {
        "id": "5LZ04VYj1kbd"
      }
    },
    {
      "cell_type": "code",
      "source": [
        "\n",
        "def alphabeta_search (game , state ):\n",
        "    player = state. to_move\n",
        "    def max_value (state , alpha , beta ):\n",
        "        if game.is_terminal (state ):\n",
        "           return game. utility (state , player ), None\n",
        "           v, move = -math.inf, None\n",
        "           for a in game. actions (state ):\n",
        "             v2 , = min_value (game. result (state , a), alpha , beta)\n",
        "             if v2 > v:\n",
        "                 v, move = v2 , a\n",
        "                 alpha = max(alpha , v)\n",
        "                 if v >= beta:\n",
        "                    return v, move\n",
        "           return v, move\n",
        "    def min_value (state , alpha , beta ):\n",
        "        if game. is_terminal (state ):\n",
        "          return game. utility (state , player ), None\n",
        "          v, move = +infinity , None\n",
        "          for a in game. actions (state ):\n",
        "              v2 , = max_value (game. result (state , a), alpha , beta)\n",
        "              if v2 < v:\n",
        "                  v, move = v2 , a\n",
        "                  beta = min(beta , v)\n",
        "                  if v <= alpha:\n",
        "                      return v, move\n",
        "              return v, move\n",
        "        return max_value(state ,-math.inf, +math.inf )"
      ],
      "metadata": {
        "id": "9cX_HaJA1-2-"
      },
      "execution_count": 12,
      "outputs": []
    },
    {
      "cell_type": "markdown",
      "source": [
        "Part 3 – Implement the Game Strategy using TicTocToe. [CO4]\n",
        "1. Implement TicToCToe game using init , actions, result, is terminal, utility,\n",
        "display constructors"
      ],
      "metadata": {
        "id": "LeEhgsVVr9i4"
      }
    },
    {
      "cell_type": "code",
      "source": [
        "class TicTacToe(Game):\n",
        "    def __init__(self, height=3, width=3, k=3):\n",
        "        self.k = k  # k in a row\n",
        "        self.squares = {(x, y) for x in range(width) for y in range(height)}\n",
        "        self.initial = Board(height=height, width=width, to_move='X', utility=0)\n",
        "\n",
        "    def actions(self, board):\n",
        "        return self.squares - set(board)\n",
        "\n",
        "    def result(self, board, square):\n",
        "        player = board.to_move\n",
        "        board = board.new({square: player}, to_move=('O' if player == 'X' else 'X'))\n",
        "        win = self.k_in_row(board, player, square, self.k)\n",
        "        board.utility = (0 if not win else +1 if player == 'X' else -1)\n",
        "        return board\n",
        "\n",
        "    def utility(self, board, player):\n",
        "        return board.utility if player == 'X' else -board.utility\n",
        "\n",
        "    def is_terminal(self, board):\n",
        "        return board.utility != 0 or len(self.squares) == len(board)\n",
        "\n",
        "    def display(self, board):\n",
        "        print(board)\n",
        "\n",
        "    def k_in_row(self, board, player, square, k):\n",
        "        def in_row(x, y, dx, dy):\n",
        "           if not (0 <= x < board.width and 0 <= y < board.height):\n",
        "                 return 0\n",
        "           return 0 if board.board[x, y] != player else 1 + in_row(x + dx, y + dy, dx, dy)\n",
        "\n",
        "        return any(\n",
        "               in_row(*square, dx, dy) + in_row(*square, -dx, -dy) - 1 >= k\n",
        "               for (dx, dy) in ((0, 1), (1, 0), (1, 1), (1, -1))\n",
        "     )\n"
      ],
      "metadata": {
        "id": "zyh5FTdssDw_"
      },
      "execution_count": 13,
      "outputs": []
    },
    {
      "cell_type": "markdown",
      "source": [
        "2. Implement a Game Board using defaultdict using _init_, new, _missing_ , _hash_ ,\n",
        "_repr_"
      ],
      "metadata": {
        "id": "c63jFR8KxS4Y"
      }
    },
    {
      "cell_type": "code",
      "source": [
        "class Board(defaultdict):\n",
        "    empty = '.'\n",
        "    off = '#'\n",
        "    def __init__ (self , width =8, height =8, to_move =None ,**kwds ):\n",
        "      self.__dict__ . update (width=width , height =height , to_move = to_move , **kwds)\n",
        "    def new(self , changes : dict , **kwds)->'Board ':\n",
        "\n",
        "        board = Board(width=self.width , height =self.height , **kwds)\n",
        "        board. update (self)\n",
        "        board. update ( changes )\n",
        "        return board\n",
        "    def missing (self , loc ):\n",
        "         x, y = loc\n",
        "         if 0 <= x < self.width and 0 <= y < self. height :\n",
        "              return self.empty\n",
        "         else:\n",
        "              return self.off\n",
        "    def hash (self ):\n",
        "         return hash( tuple( sorted (self.items ()))) + hash(self. to_move )\n",
        "    def repr (self ):\n",
        "        def row(y):\n",
        "          return ' '.join(self[x, y] for x in range (self.width ))\n",
        "        return '\\n'.join(map(row , range(self. height ))) + '\\n'\n"
      ],
      "metadata": {
        "id": "CjEkIXCSxnUQ"
      },
      "execution_count": 15,
      "outputs": []
    },
    {
      "cell_type": "markdown",
      "source": [
        "3. Implement random player(game,state) and player(search algorithm)"
      ],
      "metadata": {
        "id": "CP1Bv_XZ62Tf"
      }
    },
    {
      "cell_type": "code",
      "source": [
        "def random_player (game , state ):\n",
        "    return random . choice (list(game. actions ( state )))\n",
        "def player ( search_algorithm ):\n",
        "\n",
        "    return lambda game , state: search_algorithm (game , state )[1]"
      ],
      "metadata": {
        "id": "O2FfQF8N7rQz"
      },
      "execution_count": 5,
      "outputs": []
    },
    {
      "cell_type": "markdown",
      "source": [
        "Part 4 – Evaluate the AI Game Strategy using TicTocToe.\n",
        "1. Implement Game Strategy using play game(TicTacToe(), dict(X=random player,\n",
        "O=player(alphabeta search)), verbose=True).utility\n",
        "2. Implement Game strategy using play game(TicTacToe(), dict(X=player(alphabeta search),\n",
        "O=player(minimax search)), verbose=True).utility\n",
        "\n"
      ],
      "metadata": {
        "id": "eMY4jGmk8H58"
      }
    },
    {
      "cell_type": "code",
      "source": [],
      "metadata": {
        "id": "ASA8IuT48ZHs"
      },
      "execution_count": null,
      "outputs": []
    }
  ]
}