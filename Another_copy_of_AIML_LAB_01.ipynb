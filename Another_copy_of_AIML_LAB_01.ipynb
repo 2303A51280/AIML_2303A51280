{
  "nbformat": 4,
  "nbformat_minor": 0,
  "metadata": {
    "colab": {
      "provenance": [],
      "authorship_tag": "ABX9TyP9fmpfWLgNCwrngAKuuBk9",
      "include_colab_link": true
    },
    "kernelspec": {
      "name": "python3",
      "display_name": "Python 3"
    },
    "language_info": {
      "name": "python"
    }
  },
  "cells": [
    {
      "cell_type": "markdown",
      "metadata": {
        "id": "view-in-github",
        "colab_type": "text"
      },
      "source": [
        "<a href=\"https://colab.research.google.com/github/2303A51280/AIML_2303A51280/blob/main/Another_copy_of_AIML_LAB_01.ipynb\" target=\"_parent\"><img src=\"https://colab.research.google.com/assets/colab-badge.svg\" alt=\"Open In Colab\"/></a>"
      ]
    },
    {
      "cell_type": "code",
      "execution_count": null,
      "metadata": {
        "id": "7h-Iwwng8XPl"
      },
      "outputs": [],
      "source": []
    },
    {
      "cell_type": "markdown",
      "source": [
        "LAB-01:INTRODUCTION TO PYTHON,NUMPY,MATPLOTILAB"
      ],
      "metadata": {
        "id": "vhuUopRe86ff"
      }
    },
    {
      "cell_type": "markdown",
      "source": [
        "PART 1:"
      ],
      "metadata": {
        "id": "9GfZ7PK69WAN"
      }
    },
    {
      "cell_type": "code",
      "source": [
        "import numpy as np\n",
        "lst1=[1,2,3]\n",
        "array1=np.array(lst1)\n",
        "array1"
      ],
      "metadata": {
        "colab": {
          "base_uri": "https://localhost:8080/"
        },
        "id": "Bh3KlDKp_l70",
        "outputId": "91e7731c-b9c0-43c9-fca4-ec779da69856"
      },
      "execution_count": null,
      "outputs": [
        {
          "output_type": "execute_result",
          "data": {
            "text/plain": [
              "array([1, 2, 3])"
            ]
          },
          "metadata": {},
          "execution_count": 3
        }
      ]
    },
    {
      "cell_type": "code",
      "source": [],
      "metadata": {
        "id": "8Fve3Zf72v36"
      },
      "execution_count": null,
      "outputs": []
    },
    {
      "cell_type": "markdown",
      "source": [],
      "metadata": {
        "id": "c6iGsIHr1_pf"
      }
    },
    {
      "cell_type": "code",
      "source": [
        "type(lst1)\n"
      ],
      "metadata": {
        "colab": {
          "base_uri": "https://localhost:8080/"
        },
        "id": "DZdV3WJxAofc",
        "outputId": "41e30dd9-2dc8-4dd0-db00-36f5e88047f3"
      },
      "execution_count": null,
      "outputs": [
        {
          "output_type": "execute_result",
          "data": {
            "text/plain": [
              "list"
            ]
          },
          "metadata": {},
          "execution_count": 5
        }
      ]
    },
    {
      "cell_type": "code",
      "source": [
        "type(array1)"
      ],
      "metadata": {
        "colab": {
          "base_uri": "https://localhost:8080/"
        },
        "id": "TuPzEMOjBARD",
        "outputId": "03fcf931-0ee7-4869-c387-bbf7e4ca9a89"
      },
      "execution_count": null,
      "outputs": [
        {
          "output_type": "execute_result",
          "data": {
            "text/plain": [
              "numpy.ndarray"
            ]
          },
          "metadata": {},
          "execution_count": 7
        }
      ]
    },
    {
      "cell_type": "code",
      "source": [
        "lst2=[4,6,7]\n",
        "array2=np.array(lst2)\n",
        "array2"
      ],
      "metadata": {
        "colab": {
          "base_uri": "https://localhost:8080/"
        },
        "id": "pnNV1FNHBLkj",
        "outputId": "47fd95e0-8861-427f-ae26-e6c7c51be105"
      },
      "execution_count": null,
      "outputs": [
        {
          "output_type": "execute_result",
          "data": {
            "text/plain": [
              "array([4, 6, 7])"
            ]
          },
          "metadata": {},
          "execution_count": 9
        }
      ]
    },
    {
      "cell_type": "code",
      "source": [
        "print(\"array2 multiplied by array1:\",array1*array2)\n",
        "print(\"array2 divided by array1:\",array1/array2)"
      ],
      "metadata": {
        "colab": {
          "base_uri": "https://localhost:8080/"
        },
        "id": "idqpIam3BeTb",
        "outputId": "45ab966d-a3cc-40a8-b09b-b07bab22ca90"
      },
      "execution_count": null,
      "outputs": [
        {
          "output_type": "stream",
          "name": "stdout",
          "text": [
            "array2 multiplied by array1: [16 36 49]\n",
            "array2 divided by array1: [1. 1. 1.]\n"
          ]
        }
      ]
    },
    {
      "cell_type": "code",
      "source": [
        "print(\"adding two numpy arrays{array1} and {array2} together:\",array1+array2)"
      ],
      "metadata": {
        "colab": {
          "base_uri": "https://localhost:8080/"
        },
        "id": "lx2vEe6mCP8E",
        "outputId": "3e3c93f2-aabc-460c-d8fa-464bbb232adb"
      },
      "execution_count": null,
      "outputs": [
        {
          "output_type": "stream",
          "name": "stdout",
          "text": [
            "adding two numpy arrays{array1} and {array2} together: [ 8 12 14]\n"
          ]
        }
      ]
    },
    {
      "cell_type": "code",
      "source": [
        "print(f\"adding two numpy arrays{array1} and {array2} together: {array1+array2}\")"
      ],
      "metadata": {
        "colab": {
          "base_uri": "https://localhost:8080/"
        },
        "id": "ONDegNJBCoCL",
        "outputId": "6c0325ad-4acc-4e3b-e17b-e87a3c9a113c"
      },
      "execution_count": null,
      "outputs": [
        {
          "output_type": "stream",
          "name": "stdout",
          "text": [
            "adding two numpy arrays[4 6 7] and [4 6 7] together: [ 8 12 14]\n"
          ]
        }
      ]
    },
    {
      "cell_type": "markdown",
      "source": [
        "PART 2:"
      ],
      "metadata": {
        "id": "fgYytaMW9nbl"
      }
    },
    {
      "cell_type": "code",
      "source": [
        "people=['rann','lily','gagan','david','julio']\n",
        "age=[12,32,21,35,19]\n",
        "weight=[30,50,40,62,35]\n",
        "height=[124,155,135,165,149]"
      ],
      "metadata": {
        "id": "sx0Rm9Y9DEkz"
      },
      "execution_count": null,
      "outputs": []
    },
    {
      "cell_type": "code",
      "source": [
        "import matplotlib.pyplot as plt"
      ],
      "metadata": {
        "id": "M86R6bS4D7RK"
      },
      "execution_count": null,
      "outputs": []
    },
    {
      "cell_type": "code",
      "source": [
        "plt.scatter(weight,height)\n",
        "plt.title(\"Relation between weight and height of patients\")\n",
        "plt.ylabel(\"Height in meters\")\n",
        "plt.xlabel(\"weight of patients in kgs\")\n",
        "plt.show()"
      ],
      "metadata": {
        "colab": {
          "base_uri": "https://localhost:8080/",
          "height": 472
        },
        "id": "Ez5LzidHEDld",
        "outputId": "b8f79ddc-d0c6-4447-fc28-3699a23fa3d2"
      },
      "execution_count": null,
      "outputs": [
        {
          "output_type": "display_data",
          "data": {
            "text/plain": [
              "<Figure size 640x480 with 1 Axes>"
            ],
            "image/png": "[encoded data removed]"
          },
          "metadata": {}
        }
      ]
    },
    {
      "cell_type": "code",
      "source": [
        "plt.figure(figsize=(12,4))\n",
        "plt.title(\"people's weight in kgs\",fontsize=16,fontstyle='italic')\n",
        "plt.bar(x=people,height=weight,width=0.6,color='blue',edgecolor='k',alpha=0.6)\n",
        "plt.xlabel(\"people\",fontsize=15)\n",
        "plt.ylabel(\"weight (in kgs)\",fontsize=15)\n",
        "plt.show()"
      ],
      "metadata": {
        "colab": {
          "base_uri": "https://localhost:8080/",
          "height": 418
        },
        "id": "KtfDWQ4MFXCC",
        "outputId": "6cb4e190-92b0-41cc-8a9b-d64048c1d44b"
      },
      "execution_count": null,
      "outputs": [
        {
          "output_type": "display_data",
          "data": {
            "text/plain": [
              "<Figure size 1200x400 with 1 Axes>"
            ],
            "image/png": "[encoded data removed]"
          },
          "metadata": {}
        }
      ]
    }
  ]
}