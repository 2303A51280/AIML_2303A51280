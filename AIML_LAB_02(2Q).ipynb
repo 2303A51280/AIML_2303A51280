{
  "nbformat": 4,
  "nbformat_minor": 0,
  "metadata": {
    "colab": {
      "provenance": [],
      "authorship_tag": "ABX9TyPZ92b/9ClGICEvf+C5vMid",
      "include_colab_link": true
    },
    "kernelspec": {
      "name": "python3",
      "display_name": "Python 3"
    },
    "language_info": {
      "name": "python"
    }
  },
  "cells": [
    {
      "cell_type": "markdown",
      "metadata": {
        "id": "view-in-github",
        "colab_type": "text"
      },
      "source": [
        "<a href=\"https://colab.research.google.com/github/2303A51280/AIML_2303A51280/blob/main/AIML_LAB_02(2Q).ipynb\" target=\"_parent\"><img src=\"https://colab.research.google.com/assets/colab-badge.svg\" alt=\"Open In Colab\"/></a>"
      ]
    },
    {
      "cell_type": "code",
      "execution_count": 11,
      "metadata": {
        "colab": {
          "base_uri": "https://localhost:8080/"
        },
        "id": "82hz-xyfsdQz",
        "outputId": "9e202705-3403-43e0-df5f-623e7af9fc1b"
      },
      "outputs": [
        {
          "output_type": "stream",
          "name": "stdout",
          "text": [
            "The adjacency List representing the graph is:\n",
            "{'A': ['C', 'D', 'G'], 'B': ['A'], 'C': ['A', 'D', 'F'], 'D': ['A', 'C', 'E', 'G', 'H'], 'E': ['D', 'F', 'H'], 'F': ['C', 'E'], 'G': ['A', 'D', 'H'], 'H': ['D', 'E', 'G']}\n"
          ]
        }
      ],
      "source": [
        "graph1={\n",
        "      'A':['C','D','G'],\n",
        "          'B':['A'],\n",
        "              'C':['A','D','F'],\n",
        "                  'D':['A','C','E','G','H'],\n",
        "                      'E':['D','F','H'],\n",
        "                          'F':['C','E'],\n",
        "                              'G':['A','D','H'],\n",
        "                                  'H':['D','E','G'],\n",
        "\n",
        "                                  }\n",
        "print(\"The adjacency List representing the graph is:\")\n",
        "print(graph1)\n",
        "def dfs(graph,node,visited):\n",
        "  if node not in visited:\n",
        "     visited.append(node)\n",
        "     for k in graph[node]:\n",
        "        dfs(graph,k,visited)\n",
        "        return visited\n",
        "        visited=dfs(graph1,'B',[])\n",
        "        print(visited)\n"
      ]
    }
  ]
}